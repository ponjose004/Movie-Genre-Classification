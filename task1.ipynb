{
 "cells": [
  {
   "cell_type": "markdown",
   "id": "84d354d3",
   "metadata": {},
   "source": [
    "MOVIE GENRE CLASSIFICATION"
   ]
  },
  {
   "cell_type": "markdown",
   "id": "9167e2af",
   "metadata": {},
   "source": [
    "1. LOADING DATASET AND SOLUTION PATH"
   ]
  },
  {
   "cell_type": "code",
   "execution_count": null,
   "id": "edd32f09",
   "metadata": {},
   "outputs": [
    {
     "name": "stdout",
     "output_type": "stream",
     "text": [
      "Training samples: (54214, 3)\n",
      "genre\n",
      "drama          13613\n",
      "documentary    13096\n",
      "comedy          7447\n",
      "short           5073\n",
      "horror          2204\n",
      "thriller        1591\n",
      "action          1315\n",
      "western         1032\n",
      "reality-tv       884\n",
      "family           784\n",
      "adventure        775\n",
      "music            731\n",
      "romance          672\n",
      "sci-fi           647\n",
      "adult            590\n",
      "crime            505\n",
      "animation        498\n",
      "sport            432\n",
      "talk-show        391\n",
      "fantasy          323\n",
      "mystery          319\n",
      "musical          277\n",
      "biography        265\n",
      "history          243\n",
      "game-show        194\n",
      "news             181\n",
      "war              132\n",
      "Name: count, dtype: int64\n"
     ]
    }
   ],
   "source": [
    "import pandas as pd\n",
    "\n",
    "def load_train(path):\n",
    "    records = []\n",
    "    with open(path, encoding='utf-8') as f:\n",
    "        for line in f:\n",
    "            line = line.strip()\n",
    "            # skip headers or blank lines\n",
    "            if not line or line.startswith(\"ID :::\"):\n",
    "                continue\n",
    "            parts = [p.strip() for p in line.split(\" ::: \")]\n",
    "            if len(parts) == 4:\n",
    "                _, title, genre, descr = parts\n",
    "                records.append({\n",
    "                    \"title\": title,\n",
    "                    \"genre\": genre,\n",
    "                    \"description\": descr\n",
    "                })\n",
    "    return pd.DataFrame(records)\n",
    "\n",
    "train_path = r\"D:\\Growthlink\\Task 1\\train_data.txt\"\n",
    "test_path  = r\"D:\\Growthlink\\Task 1\\test_data.txt\"\n",
    "solution_path = r\"D:\\Growthlink\\Task 1\\test_data_solution.txt\"\n",
    "\n",
    "\n",
    "df = load_train(train_path)\n",
    "print(\"Training samples:\", df.shape)\n",
    "print(df.genre.value_counts())\n"
   ]
  },
  {
   "cell_type": "markdown",
   "id": "490d4580",
   "metadata": {},
   "source": [
    "2.SPLITTING THE DATASET"
   ]
  },
  {
   "cell_type": "code",
   "execution_count": 2,
   "id": "f76322fe",
   "metadata": {},
   "outputs": [
    {
     "name": "stdout",
     "output_type": "stream",
     "text": [
      "Train: (43371,) Validation: (10843,)\n"
     ]
    }
   ],
   "source": [
    "from sklearn.model_selection import train_test_split\n",
    "\n",
    "X = df[\"description\"]\n",
    "y = df[\"genre\"]\n",
    "\n",
    "X_train, X_val, y_train, y_val = train_test_split(\n",
    "    X, y,\n",
    "    test_size=0.2,\n",
    "    stratify=y,\n",
    "    random_state=42\n",
    ")\n",
    "\n",
    "print(\"Train:\", X_train.shape, \"Validation:\", X_val.shape)\n"
   ]
  },
  {
   "cell_type": "markdown",
   "id": "37bf98c0",
   "metadata": {},
   "source": [
    "3. DATA PREPARATION - Converting raw data into vector formats using TF-IDF"
   ]
  },
  {
   "cell_type": "code",
   "execution_count": null,
   "id": "98985579",
   "metadata": {},
   "outputs": [
    {
     "name": "stdout",
     "output_type": "stream",
     "text": [
      "TF–IDF shape: (43371, 10000)\n"
     ]
    }
   ],
   "source": [
    "from sklearn.feature_extraction.text import TfidfVectorizer\n",
    "\n",
    "vectorizer = TfidfVectorizer(\n",
    "    max_features=10_000,\n",
    "    ngram_range=(1, 2),\n",
    "    stop_words=\"english\",\n",
    "    lowercase=True\n",
    ")\n",
    "\n",
    "X_train_tfidf = vectorizer.fit_transform(X_train)\n",
    "X_val_tfidf   = vectorizer.transform(X_val)\n",
    "\n",
    "print(\"TF–IDF shape:\", X_train_tfidf.shape)\n"
   ]
  },
  {
   "cell_type": "markdown",
   "id": "33d383c0",
   "metadata": {},
   "source": [
    "4. MODEL SELECTION AND DEFINING\n",
    "\n",
    "    i)   Support Vector Machine  \n",
    "    ii)  Random Forest  \n",
    "    iii) XGBoost  \n",
    "    iv)  Multilayer Perceptron  \n",
    "\n",
    "**Note:** Ensembling the models using voting."
   ]
  },
  {
   "cell_type": "code",
   "execution_count": null,
   "id": "9467b11f",
   "metadata": {},
   "outputs": [],
   "source": [
    "from sklearn.svm import SVC\n",
    "from sklearn.ensemble import RandomForestClassifier, VotingClassifier\n",
    "from sklearn.neural_network import MLPClassifier\n",
    "from xgboost import XGBClassifier\n",
    "\n",
    "clf_svm = SVC(\n",
    "    kernel=\"linear\",\n",
    "    probability=True,\n",
    "    random_state=42\n",
    ")\n",
    "\n",
    "clf_rf = RandomForestClassifier(\n",
    "    n_estimators=100,\n",
    "    random_state=42\n",
    ")\n",
    "\n",
    "# GPU Enabled for faster training\n",
    "clf_xgb = XGBClassifier(\n",
    "    tree_method=\"gpu_hist\",        \n",
    "    predictor=\"gpu_predictor\",     \n",
    "    use_label_encoder=False,\n",
    "    eval_metric=\"mlogloss\",\n",
    "    random_state=42\n",
    ")\n",
    "\n",
    "clf_mlp = MLPClassifier(\n",
    "    hidden_layer_sizes=(100,),\n",
    "    max_iter=300,\n",
    "    random_state=42\n",
    ")\n",
    "\n",
    "\n",
    "#ensembling all the models trained above\n",
    "ensemble = VotingClassifier(\n",
    "    estimators=[\n",
    "        (\"svm\", clf_svm),\n",
    "        (\"rf\",  clf_rf),\n",
    "        (\"xgb\", clf_xgb),\n",
    "        (\"mlp\", clf_mlp)\n",
    "    ],\n",
    "    voting=\"soft\"\n",
    ")\n",
    "\n"
   ]
  },
  {
   "cell_type": "markdown",
   "id": "4114d7c2",
   "metadata": {},
   "source": [
    "5, TRAINING THE ENSEMBLE MODEL"
   ]
  },
  {
   "cell_type": "code",
   "execution_count": null,
   "id": "04caff6c",
   "metadata": {},
   "outputs": [
    {
     "name": "stderr",
     "output_type": "stream",
     "text": [
      "e:\\anaconda3\\Lib\\site-packages\\xgboost\\training.py:183: UserWarning: [13:21:00] WARNING: C:\\actions-runner\\_work\\xgboost\\xgboost\\src\\common\\error_msg.cc:27: The tree method `gpu_hist` is deprecated since 2.0.0. To use GPU training, set the `device` parameter to CUDA instead.\n",
      "\n",
      "    E.g. tree_method = \"hist\", device = \"cuda\"\n",
      "\n",
      "  bst.update(dtrain, iteration=i, fobj=obj)\n",
      "e:\\anaconda3\\Lib\\site-packages\\xgboost\\training.py:183: UserWarning: [13:21:00] WARNING: C:\\actions-runner\\_work\\xgboost\\xgboost\\src\\learner.cc:738: \n",
      "Parameters: { \"predictor\", \"use_label_encoder\" } are not used.\n",
      "\n",
      "  bst.update(dtrain, iteration=i, fobj=obj)\n"
     ]
    },
    {
     "name": "stdout",
     "output_type": "stream",
     "text": [
      "Ensemble trained on 43371 samples\n"
     ]
    }
   ],
   "source": [
    "# Train the ensemble model\n",
    "ensemble.fit(X_train_tfidf, y_train)\n",
    "print(\"Ensemble trained on\", X_train_tfidf.shape[0], \"samples\")"
   ]
  },
  {
   "cell_type": "markdown",
   "id": "778ea362",
   "metadata": {},
   "source": [
    "6. EVALUATION OF THE MODEL"
   ]
  },
  {
   "cell_type": "code",
   "execution_count": 16,
   "id": "a6083d0a",
   "metadata": {},
   "outputs": [
    {
     "name": "stdout",
     "output_type": "stream",
     "text": [
      "Classification Report:\n",
      "               precision    recall  f1-score   support\n",
      "\n",
      "      action       0.45      0.33      0.38       263\n",
      "       adult       0.71      0.47      0.56       118\n",
      "   adventure       0.44      0.23      0.31       155\n",
      "   animation       0.35      0.20      0.25       100\n",
      "   biography       0.00      0.00      0.00        53\n",
      "      comedy       0.52      0.54      0.53      1490\n",
      "       crime       0.29      0.08      0.12       101\n",
      " documentary       0.69      0.83      0.75      2619\n",
      "       drama       0.55      0.72      0.63      2723\n",
      "      family       0.38      0.12      0.18       157\n",
      "     fantasy       0.20      0.03      0.05        65\n",
      "   game-show       0.89      0.64      0.75        39\n",
      "     history       0.43      0.06      0.11        49\n",
      "      horror       0.64      0.57      0.60       441\n",
      "       music       0.62      0.47      0.53       146\n",
      "     musical       0.12      0.04      0.06        55\n",
      "     mystery       0.20      0.03      0.05        64\n",
      "        news       0.50      0.14      0.22        36\n",
      "  reality-tv       0.44      0.27      0.34       177\n",
      "     romance       0.14      0.02      0.04       134\n",
      "      sci-fi       0.49      0.39      0.43       129\n",
      "       short       0.41      0.32      0.36      1015\n",
      "       sport       0.59      0.48      0.53        86\n",
      "   talk-show       0.42      0.24      0.31        78\n",
      "    thriller       0.28      0.16      0.21       318\n",
      "         war       0.80      0.15      0.26        26\n",
      "     western       0.87      0.73      0.80       206\n",
      "\n",
      "    accuracy                           0.57     10843\n",
      "   macro avg       0.46      0.31      0.35     10843\n",
      "weighted avg       0.54      0.57      0.55     10843\n",
      "\n"
     ]
    }
   ],
   "source": [
    "from sklearn.metrics import classification_report, confusion_matrix\n",
    "\n",
    "y_pred = ensemble.predict(X_val_tfidf)\n",
    "print(\"Classification Report:\\n\", classification_report(y_val, y_pred))\n"
   ]
  },
  {
   "cell_type": "markdown",
   "id": "77d4f3c0",
   "metadata": {},
   "source": [
    "TESTING USING DATASET AND STORING THE OUTPUT IN A CSV"
   ]
  },
  {
   "cell_type": "code",
   "execution_count": null,
   "id": "25c8338e",
   "metadata": {},
   "outputs": [
    {
     "name": "stdout",
     "output_type": "stream",
     "text": [
      "[INFO] Loaded 54200 samples from test set.\n",
      "[SUCCESS] Saved predictions to movie_genre_predictions.csv\n",
      "  ID PredictedGenre\n",
      "0  1          short\n",
      "1  2          drama\n",
      "2  3    documentary\n",
      "3  4          drama\n",
      "4  5          drama\n"
     ]
    }
   ],
   "source": [
    "import pandas as pd\n",
    "\n",
    "def load_test(path):\n",
    "    \"\"\"\n",
    "    Reads lines like:\n",
    "      54199 ::: Movie Title ::: Plot description...\n",
    "    Returns lists of IDs and descriptions.\n",
    "    \"\"\"\n",
    "    ids, texts = [], []\n",
    "    with open(path, encoding=\"utf-8\") as f:\n",
    "        for line in f:\n",
    "            line = line.strip()\n",
    "            if not line or line.startswith(\"ID :::\"):\n",
    "                continue\n",
    "            parts = [p.strip() for p in line.split(\" ::: \")]\n",
    "            \n",
    "            if len(parts) == 3:\n",
    "                idx, _title, descr = parts\n",
    "                ids.append(idx)\n",
    "                texts.append(descr)\n",
    "            \n",
    "            elif len(parts) >= 4:\n",
    "                idx, _title, _genre, descr = parts[:4]\n",
    "                ids.append(idx)\n",
    "                texts.append(descr)\n",
    "            \n",
    "            else:\n",
    "                print(\"Skipping malformed line:\", line)\n",
    "    \n",
    "    print(f\"[INFO] Loaded {len(texts)} samples from test set.\")\n",
    "    return ids, texts\n",
    "\n",
    "# Paths (reuse from your earlier code)\n",
    "test_path = r\"D:\\Growthlink\\Task 1\\test_data.txt\"\n",
    "\n",
    "# Load & parse\n",
    "test_ids, test_texts = load_test(test_path)\n",
    "\n",
    "# Only proceed if we have test samples\n",
    "if test_texts:\n",
    "    # Vectorize\n",
    "    test_tfidf = vectorizer.transform(test_texts)\n",
    "\n",
    "    # Predict\n",
    "    test_preds = ensemble.predict(test_tfidf)\n",
    "\n",
    "    # Build output DataFrame\n",
    "    out_df = pd.DataFrame({\n",
    "        \"ID\": test_ids,\n",
    "        \"PredictedGenre\": test_preds\n",
    "    })\n",
    "\n",
    "    # Save to CSV\n",
    "    out_df.to_csv(\"movie_genre_predictions.csv\", index=False)\n",
    "    print(\"[SUCCESS] Saved predictions to movie_genre_predictions.csv\")\n",
    "\n",
    "    # (Optional) Quick peek\n",
    "    print(out_df.head())\n",
    "else:\n",
    "    print(\"[ERROR] No valid data found in test set – check your file format.\")\n"
   ]
  },
  {
   "cell_type": "markdown",
   "id": "b27d544e",
   "metadata": {},
   "source": [
    "SAVING THE MODEL FILE"
   ]
  },
  {
   "cell_type": "code",
   "execution_count": 15,
   "id": "3916601e",
   "metadata": {},
   "outputs": [
    {
     "name": "stdout",
     "output_type": "stream",
     "text": [
      "[INFO] Saved ensemble model to 'ensemble_model.pkl' and vectorizer to 'tfidf_vectorizer.pkl'\n"
     ]
    }
   ],
   "source": [
    "import joblib\n",
    "\n",
    "# After training, call these lines to persist your objects:\n",
    "joblib.dump(ensemble, 'ensemble_model.pkl')\n",
    "joblib.dump(vectorizer, 'tfidf_vectorizer.pkl')\n",
    "print(\"[INFO] Saved ensemble model to 'ensemble_model.pkl' and vectorizer to 'tfidf_vectorizer.pkl'\")\n"
   ]
  }
 ],
 "metadata": {
  "kernelspec": {
   "display_name": "base",
   "language": "python",
   "name": "python3"
  },
  "language_info": {
   "codemirror_mode": {
    "name": "ipython",
    "version": 3
   },
   "file_extension": ".py",
   "mimetype": "text/x-python",
   "name": "python",
   "nbconvert_exporter": "python",
   "pygments_lexer": "ipython3",
   "version": "3.12.7"
  }
 },
 "nbformat": 4,
 "nbformat_minor": 5
}
